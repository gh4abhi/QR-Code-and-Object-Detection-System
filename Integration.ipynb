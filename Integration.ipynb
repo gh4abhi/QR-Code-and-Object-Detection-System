{
 "cells": [
  {
   "cell_type": "code",
   "execution_count": null,
   "metadata": {},
   "outputs": [],
   "source": [
    "import cv2\n",
    "import numpy as np\n",
    "from playsound import playsound\n",
    "from pyzbar.pyzbar import decode\n",
    "cap = cv2.VideoCapture(0)\n",
    "\n",
    "\n",
    "# tracker = cv2.TrackerMOSSE_create()  # Opencv-contrib-python\n",
    "tracker = cv2.TrackerCSRT_create() # Works Well\n",
    "# tracker = cv2.TrackerBoosting_create()\n",
    "# tracker = cv2.TrackerKCF_create()\n",
    "\n",
    "success , img = cap.read() # To take frame\n",
    "bbox = cv2.selectROI('Tracking',img,False) # Create bounding box # bbox statands for bounding box that we are going to create in the Tracking window.\n",
    "tracker.init(img,bbox) # Initialising Tracker\n",
    "\n",
    "\n",
    "def qr():\n",
    "    with open('Authentication.txt') as f:\n",
    "        auth_list = f.read().splitlines()\n",
    "        for i in decode(img):\n",
    "            v_sound=0\n",
    "            myData = i.data.decode('utf-8') \n",
    "            if myData in auth_list:\n",
    "                    x = 'Authorised'\n",
    "                    mycolor = (0,255,0)\n",
    "                    v_sound=1\n",
    "            else:\n",
    "                    x = 'Un-authorised'\n",
    "                    mycolor = (0,0,255)\n",
    "                    v_sound=2\n",
    "            pts = np.array([i.polygon],np.int32)\n",
    "            pts.reshape((-1,1,2))\n",
    "            cv2.polylines(img,[pts],True,(255,0,255),5)\n",
    "            pts2 = i.rect\n",
    "            cv2.putText(img,x,(pts2[0],pts2[1]),cv2.FONT_HERSHEY_SIMPLEX,0.9,mycolor,2)\n",
    "\n",
    "def drawBox():\n",
    "    x,y,w,h = int(bbox[0]),int(bbox[1]),int(bbox[2]),int(bbox[3]) # bbox is not a list that's why we did this.\n",
    "    cv2.rectangle(img,(x,y),((x+w),(y+h)),(255,0,255),3,1)\n",
    "    cv2.putText(img, \"Tracking\", (75, 75), cv2.FONT_HERSHEY_SIMPLEX, 0.7, (0, 255, 0), 2)\n",
    "    qr()\n",
    "\n",
    "while True:\n",
    "    timer = cv2.getTickCount() #frames per second\n",
    "    success , img = cap.read()\n",
    "    success,bbox = tracker.update(img) # Updating bounding box\n",
    "    # We have different ypy of trackers provided by open CV\n",
    "    if success:\n",
    "        drawBox()\n",
    "    else:\n",
    "        cv2.putText(img, \"Lost\", (75, 75), cv2.FONT_HERSHEY_SIMPLEX, 0.7, (0, 0, 255), 2)\n",
    "\n",
    "    fps = cv2.getTickFrequency()/(cv2.getTickCount()-timer)\n",
    "    cv2.putText(img,str(int(fps)),(75,50),cv2.FONT_HERSHEY_SIMPLEX,0.7,(0,0,255),2)\n",
    "    cv2.imshow('Tracking',img)\n",
    "\n",
    "    if cv2.waitKey(1) & 0xff == ord('q'):\n",
    "        break"
   ]
  },
  {
   "cell_type": "code",
   "execution_count": null,
   "metadata": {},
   "outputs": [],
   "source": []
  }
 ],
 "metadata": {
  "kernelspec": {
   "display_name": "Python 3",
   "language": "python",
   "name": "python3"
  },
  "language_info": {
   "codemirror_mode": {
    "name": "ipython",
    "version": 3
   },
   "file_extension": ".py",
   "mimetype": "text/x-python",
   "name": "python",
   "nbconvert_exporter": "python",
   "pygments_lexer": "ipython3",
   "version": "3.7.6"
  }
 },
 "nbformat": 4,
 "nbformat_minor": 4
}
