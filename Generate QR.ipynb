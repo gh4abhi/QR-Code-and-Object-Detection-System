{
 "cells": [
  {
   "cell_type": "code",
   "execution_count": 1,
   "metadata": {},
   "outputs": [],
   "source": [
    "from MyQR import myqr\n",
    "import os\n",
    "import base64 "
   ]
  },
  {
   "cell_type": "code",
   "execution_count": 2,
   "metadata": {},
   "outputs": [],
   "source": [
    "# Reading File"
   ]
  },
  {
   "cell_type": "code",
   "execution_count": 3,
   "metadata": {},
   "outputs": [
    {
     "name": "stdout",
     "output_type": "stream",
     "text": [
      "['Ram', 'Shyam', 'Rahul ', 'Jai']\n"
     ]
    }
   ],
   "source": [
    "f = open('Authentication.txt','r')\n",
    "lines = f.read().split(\"\\n\")\n",
    "print(lines)"
   ]
  },
  {
   "cell_type": "code",
   "execution_count": 4,
   "metadata": {},
   "outputs": [
    {
     "data": {
      "text/plain": [
       "\"for i in range(0,len(lines)):\\n    data = lines[i].encode() # To encode\\n    print(data)\\n    name = base64.b64encode(data)\\n    print(name)\\n    version,level,qr_name = myqr.run(str(name),\\n                                 level='H',\\n                                 version = 2,\\n                                 picture = 'bg.jpg', # Background Image\\n                                 colorized=True,\\n                                 contrast = 1.0,\\n                                 brightness = 1.0,\\n                                 save_name = str(lines[i]+'.bmp'), #.bmp for jpg format and save_name depicts with which name the qr code is to be saved\\n                                 save_dir = os.getcwd() # getcwd == current working directory\\n                                )\""
      ]
     },
     "execution_count": 4,
     "metadata": {},
     "output_type": "execute_result"
    }
   ],
   "source": [
    "'''for i in range(0,len(lines)):\n",
    "    data = lines[i].encode() # To encode\n",
    "    print(data)\n",
    "    name = base64.b64encode(data)\n",
    "    print(name)\n",
    "    version,level,qr_name = myqr.run(str(name),\n",
    "                                 level='H',\n",
    "                                 version = 2,\n",
    "                                 picture = 'bg.jpg', # Background Image\n",
    "                                 colorized=True,\n",
    "                                 contrast = 1.0,\n",
    "                                 brightness = 1.0,\n",
    "                                 save_name = str(lines[i]+'.bmp'), #.bmp for jpg format and save_name depicts with which name the qr code is to be saved\n",
    "                                 save_dir = os.getcwd() # getcwd == current working directory\n",
    "                                )'''"
   ]
  },
  {
   "cell_type": "code",
   "execution_count": 5,
   "metadata": {},
   "outputs": [],
   "source": [
    "import qrcode\n",
    "for i in lines:\n",
    "    qr = qrcode.make('{}'.format(i))\n",
    "    qr.save('{}.png'.format(i))"
   ]
  },
  {
   "cell_type": "code",
   "execution_count": null,
   "metadata": {},
   "outputs": [],
   "source": []
  }
 ],
 "metadata": {
  "kernelspec": {
   "display_name": "Python 3",
   "language": "python",
   "name": "python3"
  },
  "language_info": {
   "codemirror_mode": {
    "name": "ipython",
    "version": 3
   },
   "file_extension": ".py",
   "mimetype": "text/x-python",
   "name": "python",
   "nbconvert_exporter": "python",
   "pygments_lexer": "ipython3",
   "version": "3.7.6"
  }
 },
 "nbformat": 4,
 "nbformat_minor": 4
}
